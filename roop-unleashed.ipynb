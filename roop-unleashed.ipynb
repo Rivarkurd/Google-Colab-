{
  "cells": [
    {
      "cell_type": "markdown",
      "metadata": {
        "id": "G9BdiCppV6AS"
      },
      "source": [
        "# Colab for roop-unleashed - Gradio version\n",
        "https://github.com/C0untFloyd/roop-unleashed\n"
      ]
    },
    {
      "cell_type": "markdown",
      "metadata": {
        "id": "CanIXgLJgaOj"
      },
      "source": [
        "Install CUDA V11.8 on Google Cloud Compute"
      ]
    },
    {
      "cell_type": "code",
      "execution_count": null,
      "metadata": {
        "id": "96GE4UgYg3Ej"
      },
      "outputs": [],
      "source": [
        "!apt-get update\n",
        "!apt-get install cuda-toolkit-11-8\n",
        "import os\n",
        "os.environ[\"LD_LIBRARY_PATH\"] += \":\" + \"/usr/local/cuda-11/lib64\"\n",
        "os.environ[\"LD_LIBRARY_PATH\"] += \":\" + \"/usr/local/cuda-11.8/lib64\""
      ]
    },
    {
      "cell_type": "markdown",
      "metadata": {
        "id": "0ZYRNb0AWLLW"
      },
      "source": [
        "Installing & preparing requirements"
      ]
    },
    {
      "cell_type": "code",
      "execution_count": 4,
      "metadata": {
        "id": "t1yPuhdySqCq"
      },
      "outputs": [
        {
          "name": "stdout",
          "output_type": "stream",
          "text": [
            "c:\\Users\\79\\roop-unleashed\\roop-unleashed\n"
          ]
        },
        {
          "name": "stderr",
          "output_type": "stream",
          "text": [
            "Cloning into 'roop-unleashed'...\n",
            "C:\\Users\\79\\AppData\\Roaming\\Python\\Python312\\site-packages\\IPython\\core\\magics\\osm.py:417: UserWarning: This is now an optional IPython functionality, setting dhist requires you to install the `pickleshare` library.\n",
            "  self.shell.db['dhist'] = compress_dhist(dhist)[-100:]\n",
            "'mv' is not recognized as an internal or external command,\n",
            "operable program or batch file.\n"
          ]
        },
        {
          "name": "stdout",
          "output_type": "stream",
          "text": [
            "Looking in indexes: https://pypi.org/simple, https://download.pytorch.org/whl/cu118\n",
            "Ignoring torch: markers 'sys_platform == \"darwin\"' don't match your environment\n",
            "Ignoring torchvision: markers 'sys_platform == \"darwin\"' don't match your environment\n",
            "Ignoring onnxruntime: markers 'sys_platform == \"darwin\" and platform_machine != \"arm64\"' don't match your environment\n",
            "Ignoring onnxruntime-silicon: markers 'sys_platform == \"darwin\" and platform_machine == \"arm64\"' don't match your environment\n",
            "Requirement already satisfied: pip in c:\\users\\79\\appdata\\local\\programs\\python\\python312\\lib\\site-packages (24.0)\n",
            "Collecting install\n",
            "  Using cached install-1.3.5-py3-none-any.whl.metadata (925 bytes)\n",
            "Collecting numpy==1.24.3 (from -r requirements.txt (line 3))\n",
            "  Downloading numpy-1.24.3.tar.gz (10.9 MB)\n",
            "     ---------------------------------------- 0.0/10.9 MB ? eta -:--:--\n",
            "     ---------------------------------------- 0.0/10.9 MB ? eta -:--:--\n",
            "     --------------------------------------- 0.1/10.9 MB 550.5 kB/s eta 0:00:20\n",
            "     --------------------------------------- 0.1/10.9 MB 657.6 kB/s eta 0:00:17\n",
            "      -------------------------------------- 0.1/10.9 MB 711.9 kB/s eta 0:00:16\n",
            "      -------------------------------------- 0.2/10.9 MB 700.2 kB/s eta 0:00:16\n",
            "      -------------------------------------- 0.2/10.9 MB 795.7 kB/s eta 0:00:14\n",
            "     - ------------------------------------- 0.3/10.9 MB 835.9 kB/s eta 0:00:13\n",
            "     - ------------------------------------- 0.3/10.9 MB 835.9 kB/s eta 0:00:13\n",
            "     - ------------------------------------- 0.4/10.9 MB 716.8 kB/s eta 0:00:15\n",
            "     - ------------------------------------- 0.4/10.9 MB 710.6 kB/s eta 0:00:15\n",
            "     - ------------------------------------- 0.5/10.9 MB 794.3 kB/s eta 0:00:14\n",
            "     - ------------------------------------- 0.5/10.9 MB 794.3 kB/s eta 0:00:14\n",
            "     - ------------------------------------- 0.5/10.9 MB 730.4 kB/s eta 0:00:15\n",
            "     -- ------------------------------------ 0.6/10.9 MB 690.3 kB/s eta 0:00:15\n",
            "     -- ------------------------------------ 0.7/10.9 MB 700.5 kB/s eta 0:00:15\n",
            "     -- ------------------------------------ 0.7/10.9 MB 716.8 kB/s eta 0:00:15\n",
            "     -- ------------------------------------ 0.8/10.9 MB 732.8 kB/s eta 0:00:14\n",
            "     --- ----------------------------------- 0.8/10.9 MB 758.9 kB/s eta 0:00:14\n",
            "     --- ----------------------------------- 0.9/10.9 MB 744.1 kB/s eta 0:00:14\n",
            "     --- ----------------------------------- 0.9/10.9 MB 757.6 kB/s eta 0:00:14\n",
            "     --- ----------------------------------- 1.0/10.9 MB 794.6 kB/s eta 0:00:13\n",
            "     --- ----------------------------------- 1.0/10.9 MB 801.4 kB/s eta 0:00:13\n",
            "     ---- ---------------------------------- 1.2/10.9 MB 837.6 kB/s eta 0:00:12\n",
            "     ---- ---------------------------------- 1.2/10.9 MB 840.9 kB/s eta 0:00:12\n",
            "     ---- ---------------------------------- 1.3/10.9 MB 848.7 kB/s eta 0:00:12\n",
            "     ---- ---------------------------------- 1.4/10.9 MB 876.2 kB/s eta 0:00:11\n",
            "     ---- ---------------------------------- 1.4/10.9 MB 887.6 kB/s eta 0:00:11\n",
            "     ----- --------------------------------- 1.4/10.9 MB 874.1 kB/s eta 0:00:11\n",
            "     ----- --------------------------------- 1.5/10.9 MB 892.3 kB/s eta 0:00:11\n",
            "     ----- --------------------------------- 1.6/10.9 MB 908.0 kB/s eta 0:00:11\n",
            "     ----- --------------------------------- 1.6/10.9 MB 896.9 kB/s eta 0:00:11\n",
            "     ------ -------------------------------- 1.7/10.9 MB 918.7 kB/s eta 0:00:11\n",
            "     ------ -------------------------------- 1.7/10.9 MB 930.9 kB/s eta 0:00:10\n",
            "     ------ -------------------------------- 1.8/10.9 MB 924.1 kB/s eta 0:00:10\n",
            "     ------ -------------------------------- 1.9/10.9 MB 929.0 kB/s eta 0:00:10\n",
            "     ------ -------------------------------- 1.9/10.9 MB 950.3 kB/s eta 0:00:10\n",
            "     ------- ------------------------------- 2.0/10.9 MB 941.2 kB/s eta 0:00:10\n",
            "     ------- ------------------------------- 2.0/10.9 MB 958.9 kB/s eta 0:00:10\n",
            "     ------- ------------------------------- 2.1/10.9 MB 962.2 kB/s eta 0:00:10\n",
            "     ------- ------------------------------- 2.1/10.9 MB 955.7 kB/s eta 0:00:10\n",
            "     ------- ------------------------------- 2.2/10.9 MB 953.9 kB/s eta 0:00:10\n",
            "     -------- ------------------------------ 2.3/10.9 MB 961.5 kB/s eta 0:00:09\n",
            "     -------- ------------------------------ 2.3/10.9 MB 957.6 kB/s eta 0:00:09\n",
            "     -------- ------------------------------ 2.3/10.9 MB 951.8 kB/s eta 0:00:09\n",
            "     -------- ------------------------------ 2.4/10.9 MB 969.0 kB/s eta 0:00:09\n",
            "     -------- ------------------------------ 2.5/10.9 MB 969.2 kB/s eta 0:00:09\n",
            "     --------- ----------------------------- 2.6/10.9 MB 981.3 kB/s eta 0:00:09\n",
            "     --------- ----------------------------- 2.6/10.9 MB 987.0 kB/s eta 0:00:09\n",
            "     --------- ----------------------------- 2.7/10.9 MB 985.0 kB/s eta 0:00:09\n",
            "     --------- ----------------------------- 2.8/10.9 MB 986.8 kB/s eta 0:00:09\n",
            "     ---------- ---------------------------- 2.8/10.9 MB 997.8 kB/s eta 0:00:09\n",
            "     ---------- ---------------------------- 2.8/10.9 MB 992.1 kB/s eta 0:00:09\n",
            "     ---------- ---------------------------- 3.0/10.9 MB 993.3 kB/s eta 0:00:08\n",
            "     ----------- --------------------------- 3.2/10.9 MB 981.7 kB/s eta 0:00:08\n",
            "     ----------- --------------------------- 3.3/10.9 MB 981.7 kB/s eta 0:00:08\n",
            "     ------------ --------------------------- 3.5/10.9 MB 1.0 MB/s eta 0:00:08\n",
            "     ------------- -------------------------- 3.6/10.9 MB 1.0 MB/s eta 0:00:08\n",
            "     ------------- -------------------------- 3.7/10.9 MB 1.0 MB/s eta 0:00:08\n",
            "     ------------- -------------------------- 3.7/10.9 MB 1.0 MB/s eta 0:00:08\n",
            "     ------------- ------------------------- 3.9/10.9 MB 983.2 kB/s eta 0:00:08\n",
            "     -------------- ------------------------ 3.9/10.9 MB 980.5 kB/s eta 0:00:08\n",
            "     -------------- ------------------------ 4.0/10.9 MB 982.0 kB/s eta 0:00:08\n",
            "     -------------- ------------------------ 4.1/10.9 MB 986.9 kB/s eta 0:00:07\n",
            "     -------------- ------------------------ 4.1/10.9 MB 983.1 kB/s eta 0:00:07\n",
            "     -------------- ------------------------ 4.1/10.9 MB 972.2 kB/s eta 0:00:07\n",
            "     -------------- ------------------------ 4.2/10.9 MB 970.1 kB/s eta 0:00:07\n",
            "     --------------- ----------------------- 4.3/10.9 MB 978.5 kB/s eta 0:00:07\n",
            "     --------------- ----------------------- 4.3/10.9 MB 968.2 kB/s eta 0:00:07\n",
            "     --------------- ----------------------- 4.3/10.9 MB 962.6 kB/s eta 0:00:07\n",
            "     --------------- ----------------------- 4.4/10.9 MB 963.9 kB/s eta 0:00:07\n",
            "     --------------- ----------------------- 4.4/10.9 MB 967.4 kB/s eta 0:00:07\n",
            "     --------------- ----------------------- 4.5/10.9 MB 960.9 kB/s eta 0:00:07\n",
            "     ---------------- ---------------------- 4.5/10.9 MB 955.8 kB/s eta 0:00:07\n",
            "     ---------------- ---------------------- 4.6/10.9 MB 961.7 kB/s eta 0:00:07\n",
            "     ---------------- ---------------------- 4.7/10.9 MB 962.9 kB/s eta 0:00:07\n",
            "     ---------------- ---------------------- 4.7/10.9 MB 964.3 kB/s eta 0:00:07\n",
            "     ----------------- --------------------- 4.8/10.9 MB 970.7 kB/s eta 0:00:07\n",
            "     ----------------- --------------------- 4.8/10.9 MB 967.7 kB/s eta 0:00:07\n",
            "     ----------------- --------------------- 4.9/10.9 MB 970.0 kB/s eta 0:00:07\n",
            "     ----------------- --------------------- 5.0/10.9 MB 974.1 kB/s eta 0:00:07\n",
            "     ----------------- --------------------- 5.0/10.9 MB 968.4 kB/s eta 0:00:07\n",
            "     ------------------ -------------------- 5.1/10.9 MB 974.3 kB/s eta 0:00:06\n",
            "     ------------------ -------------------- 5.2/10.9 MB 979.2 kB/s eta 0:00:06\n",
            "     ------------------ -------------------- 5.2/10.9 MB 978.4 kB/s eta 0:00:06\n",
            "     ------------------ -------------------- 5.3/10.9 MB 980.2 kB/s eta 0:00:06\n",
            "     ------------------- ------------------- 5.3/10.9 MB 986.9 kB/s eta 0:00:06\n",
            "     ------------------- ------------------- 5.4/10.9 MB 984.0 kB/s eta 0:00:06\n",
            "     ------------------- ------------------- 5.5/10.9 MB 984.9 kB/s eta 0:00:06\n",
            "     ------------------- ------------------- 5.5/10.9 MB 991.5 kB/s eta 0:00:06\n",
            "     ------------------- ------------------- 5.5/10.9 MB 985.8 kB/s eta 0:00:06\n",
            "     -------------------- ------------------ 5.6/10.9 MB 989.5 kB/s eta 0:00:06\n",
            "     -------------------- ------------------ 5.7/10.9 MB 995.7 kB/s eta 0:00:06\n",
            "     -------------------- ------------------ 5.7/10.9 MB 991.9 kB/s eta 0:00:06\n",
            "     --------------------- ------------------ 5.8/10.9 MB 1.0 MB/s eta 0:00:06\n",
            "     --------------------- ------------------ 5.9/10.9 MB 1.0 MB/s eta 0:00:06\n",
            "     --------------------- ------------------ 5.9/10.9 MB 1.0 MB/s eta 0:00:05\n",
            "     --------------------- ----------------- 6.0/10.9 MB 997.6 kB/s eta 0:00:05\n",
            "     ---------------------- ----------------- 6.1/10.9 MB 1.0 MB/s eta 0:00:05\n",
            "     ---------------------- ----------------- 6.1/10.9 MB 1.0 MB/s eta 0:00:05\n",
            "     ---------------------- ----------------- 6.1/10.9 MB 1.0 MB/s eta 0:00:05\n",
            "     ---------------------- ---------------- 6.2/10.9 MB 999.7 kB/s eta 0:00:05\n",
            "     ---------------------- ----------------- 6.2/10.9 MB 1.0 MB/s eta 0:00:05\n",
            "     ----------------------- ---------------- 6.3/10.9 MB 1.0 MB/s eta 0:00:05\n",
            "     ----------------------- ---------------- 6.3/10.9 MB 1.0 MB/s eta 0:00:05\n",
            "     ----------------------- ---------------- 6.4/10.9 MB 1.0 MB/s eta 0:00:05\n",
            "     ----------------------- ---------------- 6.5/10.9 MB 1.0 MB/s eta 0:00:05\n",
            "     ----------------------- ---------------- 6.5/10.9 MB 1.0 MB/s eta 0:00:05\n",
            "     ------------------------ --------------- 6.6/10.9 MB 1.0 MB/s eta 0:00:05\n",
            "     ------------------------ --------------- 6.6/10.9 MB 1.0 MB/s eta 0:00:05\n",
            "     ----------------------- --------------- 6.6/10.9 MB 997.8 kB/s eta 0:00:05\n",
            "     ----------------------- --------------- 6.7/10.9 MB 995.4 kB/s eta 0:00:05\n",
            "     ------------------------ -------------- 6.7/10.9 MB 996.0 kB/s eta 0:00:05\n",
            "     ------------------------ --------------- 6.8/10.9 MB 1.0 MB/s eta 0:00:05\n",
            "     ------------------------ -------------- 6.8/10.9 MB 995.8 kB/s eta 0:00:05\n",
            "     ------------------------ -------------- 6.8/10.9 MB 995.8 kB/s eta 0:00:05\n",
            "     ------------------------ -------------- 7.0/10.9 MB 994.1 kB/s eta 0:00:04\n",
            "     ------------------------ -------------- 7.0/10.9 MB 991.8 kB/s eta 0:00:04\n",
            "     ------------------------- ------------- 7.1/10.9 MB 994.7 kB/s eta 0:00:04\n",
            "     ------------------------- ------------- 7.1/10.9 MB 998.8 kB/s eta 0:00:04\n",
            "     ------------------------- ------------- 7.2/10.9 MB 992.3 kB/s eta 0:00:04\n",
            "     ------------------------- ------------- 7.2/10.9 MB 990.1 kB/s eta 0:00:04\n",
            "     -------------------------- ------------ 7.3/10.9 MB 991.5 kB/s eta 0:00:04\n",
            "     -------------------------- ------------ 7.3/10.9 MB 993.5 kB/s eta 0:00:04\n",
            "     -------------------------- ------------ 7.4/10.9 MB 987.9 kB/s eta 0:00:04\n",
            "     -------------------------- ------------ 7.5/10.9 MB 994.7 kB/s eta 0:00:04\n",
            "     --------------------------- ----------- 7.6/10.9 MB 998.0 kB/s eta 0:00:04\n",
            "     ---------------------------- ----------- 7.7/10.9 MB 1.0 MB/s eta 0:00:04\n",
            "     ---------------------------- ----------- 7.8/10.9 MB 1.0 MB/s eta 0:00:04\n",
            "     ---------------------------- ----------- 7.9/10.9 MB 1.0 MB/s eta 0:00:04\n",
            "     ----------------------------- ---------- 7.9/10.9 MB 1.0 MB/s eta 0:00:03\n",
            "     ----------------------------- ---------- 8.0/10.9 MB 1.0 MB/s eta 0:00:03\n",
            "     ----------------------------- ---------- 8.0/10.9 MB 1.0 MB/s eta 0:00:03\n",
            "     ----------------------------- ---------- 8.1/10.9 MB 1.0 MB/s eta 0:00:03\n",
            "     ----------------------------- ---------- 8.1/10.9 MB 1.0 MB/s eta 0:00:03\n",
            "     ------------------------------ --------- 8.2/10.9 MB 1.0 MB/s eta 0:00:03\n",
            "     ------------------------------ --------- 8.2/10.9 MB 1.0 MB/s eta 0:00:03\n",
            "     ------------------------------ --------- 8.3/10.9 MB 1.0 MB/s eta 0:00:03\n",
            "     ----------------------------- --------- 8.3/10.9 MB 998.6 kB/s eta 0:00:03\n",
            "     ------------------------------ --------- 8.4/10.9 MB 1.0 MB/s eta 0:00:03\n",
            "     ------------------------------ -------- 8.4/10.9 MB 998.3 kB/s eta 0:00:03\n",
            "     ------------------------------ -------- 8.5/10.9 MB 988.4 kB/s eta 0:00:03\n",
            "     ------------------------------ -------- 8.6/10.9 MB 992.5 kB/s eta 0:00:03\n",
            "     ------------------------------ -------- 8.6/10.9 MB 992.5 kB/s eta 0:00:03\n",
            "     ------------------------------ -------- 8.6/10.9 MB 980.2 kB/s eta 0:00:03\n",
            "     ------------------------------- ------- 8.7/10.9 MB 974.5 kB/s eta 0:00:03\n",
            "     ------------------------------- ------- 8.8/10.9 MB 971.7 kB/s eta 0:00:03\n",
            "     ------------------------------- ------- 8.8/10.9 MB 952.7 kB/s eta 0:00:03\n",
            "     ------------------------------- ------- 8.9/10.9 MB 951.4 kB/s eta 0:00:03\n",
            "     ------------------------------- ------- 8.9/10.9 MB 942.6 kB/s eta 0:00:03\n",
            "     -------------------------------- ------ 9.0/10.9 MB 940.4 kB/s eta 0:00:02\n",
            "     -------------------------------- ------ 9.1/10.9 MB 941.3 kB/s eta 0:00:02\n",
            "     -------------------------------- ------ 9.1/10.9 MB 925.0 kB/s eta 0:00:02\n",
            "     --------------------------------- ----- 9.3/10.9 MB 922.8 kB/s eta 0:00:02\n",
            "     --------------------------------- ----- 9.3/10.9 MB 915.9 kB/s eta 0:00:02\n",
            "     --------------------------------- ----- 9.4/10.9 MB 916.0 kB/s eta 0:00:02\n",
            "     --------------------------------- ----- 9.5/10.9 MB 919.3 kB/s eta 0:00:02\n",
            "     --------------------------------- ----- 9.5/10.9 MB 920.0 kB/s eta 0:00:02\n",
            "     ---------------------------------- ---- 9.5/10.9 MB 911.9 kB/s eta 0:00:02\n",
            "     ---------------------------------- ---- 9.6/10.9 MB 914.6 kB/s eta 0:00:02\n",
            "     ---------------------------------- ---- 9.6/10.9 MB 916.4 kB/s eta 0:00:02\n",
            "     ---------------------------------- ---- 9.7/10.9 MB 913.8 kB/s eta 0:00:02\n",
            "     ---------------------------------- ---- 9.7/10.9 MB 917.0 kB/s eta 0:00:02\n",
            "     ----------------------------------- --- 9.8/10.9 MB 920.3 kB/s eta 0:00:02\n",
            "     ----------------------------------- --- 9.8/10.9 MB 920.3 kB/s eta 0:00:02\n",
            "     ----------------------------------- --- 9.9/10.9 MB 915.3 kB/s eta 0:00:02\n",
            "     ---------------------------------- --- 10.0/10.9 MB 916.6 kB/s eta 0:00:02\n",
            "     ---------------------------------- --- 10.0/10.9 MB 919.0 kB/s eta 0:00:01\n",
            "     ----------------------------------- -- 10.1/10.9 MB 917.1 kB/s eta 0:00:01\n",
            "     ----------------------------------- -- 10.1/10.9 MB 916.6 kB/s eta 0:00:01\n",
            "     ----------------------------------- -- 10.2/10.9 MB 921.5 kB/s eta 0:00:01\n",
            "     ----------------------------------- -- 10.2/10.9 MB 918.1 kB/s eta 0:00:01\n",
            "     ----------------------------------- -- 10.3/10.9 MB 923.4 kB/s eta 0:00:01\n",
            "     ------------------------------------ - 10.4/10.9 MB 930.0 kB/s eta 0:00:01\n",
            "     ------------------------------------ - 10.4/10.9 MB 931.3 kB/s eta 0:00:01\n",
            "     ------------------------------------ - 10.5/10.9 MB 932.6 kB/s eta 0:00:01\n",
            "     ------------------------------------ - 10.6/10.9 MB 940.7 kB/s eta 0:00:01\n",
            "     -------------------------------------  10.6/10.9 MB 943.4 kB/s eta 0:00:01\n",
            "     -------------------------------------  10.7/10.9 MB 950.2 kB/s eta 0:00:01\n",
            "     -------------------------------------  10.8/10.9 MB 959.9 kB/s eta 0:00:01\n",
            "     -------------------------------------  10.9/10.9 MB 965.6 kB/s eta 0:00:01\n",
            "     -------------------------------------  10.9/10.9 MB 965.6 kB/s eta 0:00:01\n",
            "     -------------------------------------  10.9/10.9 MB 965.6 kB/s eta 0:00:01\n",
            "     -------------------------------------  10.9/10.9 MB 965.6 kB/s eta 0:00:01\n",
            "     -------------------------------------- 10.9/10.9 MB 946.9 kB/s eta 0:00:00\n",
            "  Installing build dependencies: started\n",
            "  Installing build dependencies: finished with status 'done'\n",
            "  Getting requirements to build wheel: started\n",
            "  Getting requirements to build wheel: finished with status 'done'\n"
          ]
        },
        {
          "name": "stderr",
          "output_type": "stream",
          "text": [
            "ERROR: Exception:\n",
            "Traceback (most recent call last):\n",
            "  File \"C:\\Users\\79\\AppData\\Local\\Programs\\Python\\Python312\\Lib\\site-packages\\pip\\_internal\\cli\\base_command.py\", line 180, in exc_logging_wrapper\n",
            "    status = run_func(*args)\n",
            "             ^^^^^^^^^^^^^^^\n",
            "  File \"C:\\Users\\79\\AppData\\Local\\Programs\\Python\\Python312\\Lib\\site-packages\\pip\\_internal\\cli\\req_command.py\", line 245, in wrapper\n",
            "    return func(self, options, args)\n",
            "           ^^^^^^^^^^^^^^^^^^^^^^^^^\n",
            "  File \"C:\\Users\\79\\AppData\\Local\\Programs\\Python\\Python312\\Lib\\site-packages\\pip\\_internal\\commands\\install.py\", line 377, in run\n",
            "    requirement_set = resolver.resolve(\n",
            "                      ^^^^^^^^^^^^^^^^^\n",
            "  File \"C:\\Users\\79\\AppData\\Local\\Programs\\Python\\Python312\\Lib\\site-packages\\pip\\_internal\\resolution\\resolvelib\\resolver.py\", line 95, in resolve\n",
            "    result = self._result = resolver.resolve(\n",
            "                            ^^^^^^^^^^^^^^^^^\n",
            "  File \"C:\\Users\\79\\AppData\\Local\\Programs\\Python\\Python312\\Lib\\site-packages\\pip\\_vendor\\resolvelib\\resolvers.py\", line 546, in resolve\n",
            "    state = resolution.resolve(requirements, max_rounds=max_rounds)\n",
            "            ^^^^^^^^^^^^^^^^^^^^^^^^^^^^^^^^^^^^^^^^^^^^^^^^^^^^^^^\n",
            "  File \"C:\\Users\\79\\AppData\\Local\\Programs\\Python\\Python312\\Lib\\site-packages\\pip\\_vendor\\resolvelib\\resolvers.py\", line 397, in resolve\n",
            "    self._add_to_criteria(self.state.criteria, r, parent=None)\n",
            "  File \"C:\\Users\\79\\AppData\\Local\\Programs\\Python\\Python312\\Lib\\site-packages\\pip\\_vendor\\resolvelib\\resolvers.py\", line 173, in _add_to_criteria\n",
            "    if not criterion.candidates:\n",
            "           ^^^^^^^^^^^^^^^^^^^^\n",
            "  File \"C:\\Users\\79\\AppData\\Local\\Programs\\Python\\Python312\\Lib\\site-packages\\pip\\_vendor\\resolvelib\\structs.py\", line 156, in __bool__\n",
            "    return bool(self._sequence)\n",
            "           ^^^^^^^^^^^^^^^^^^^^\n",
            "  File \"C:\\Users\\79\\AppData\\Local\\Programs\\Python\\Python312\\Lib\\site-packages\\pip\\_internal\\resolution\\resolvelib\\found_candidates.py\", line 155, in __bool__\n",
            "    return any(self)\n",
            "           ^^^^^^^^^\n",
            "  File \"C:\\Users\\79\\AppData\\Local\\Programs\\Python\\Python312\\Lib\\site-packages\\pip\\_internal\\resolution\\resolvelib\\found_candidates.py\", line 143, in <genexpr>\n",
            "    return (c for c in iterator if id(c) not in self._incompatible_ids)\n",
            "           ^^^^^^^^^^^^^^^^^^^^^^^^^^^^^^^^^^^^^^^^^^^^^^^^^^^^^^^^^^^^\n",
            "  File \"C:\\Users\\79\\AppData\\Local\\Programs\\Python\\Python312\\Lib\\site-packages\\pip\\_internal\\resolution\\resolvelib\\found_candidates.py\", line 47, in _iter_built\n",
            "    candidate = func()\n",
            "                ^^^^^^\n",
            "  File \"C:\\Users\\79\\AppData\\Local\\Programs\\Python\\Python312\\Lib\\site-packages\\pip\\_internal\\resolution\\resolvelib\\factory.py\", line 182, in _make_candidate_from_link\n",
            "    base: Optional[BaseCandidate] = self._make_base_candidate_from_link(\n",
            "                                    ^^^^^^^^^^^^^^^^^^^^^^^^^^^^^^^^^^^^\n",
            "  File \"C:\\Users\\79\\AppData\\Local\\Programs\\Python\\Python312\\Lib\\site-packages\\pip\\_internal\\resolution\\resolvelib\\factory.py\", line 228, in _make_base_candidate_from_link\n",
            "    self._link_candidate_cache[link] = LinkCandidate(\n",
            "                                       ^^^^^^^^^^^^^^\n",
            "  File \"C:\\Users\\79\\AppData\\Local\\Programs\\Python\\Python312\\Lib\\site-packages\\pip\\_internal\\resolution\\resolvelib\\candidates.py\", line 290, in __init__\n",
            "    super().__init__(\n",
            "  File \"C:\\Users\\79\\AppData\\Local\\Programs\\Python\\Python312\\Lib\\site-packages\\pip\\_internal\\resolution\\resolvelib\\candidates.py\", line 156, in __init__\n",
            "    self.dist = self._prepare()\n",
            "                ^^^^^^^^^^^^^^^\n",
            "  File \"C:\\Users\\79\\AppData\\Local\\Programs\\Python\\Python312\\Lib\\site-packages\\pip\\_internal\\resolution\\resolvelib\\candidates.py\", line 222, in _prepare\n",
            "    dist = self._prepare_distribution()\n",
            "           ^^^^^^^^^^^^^^^^^^^^^^^^^^^^\n",
            "  File \"C:\\Users\\79\\AppData\\Local\\Programs\\Python\\Python312\\Lib\\site-packages\\pip\\_internal\\resolution\\resolvelib\\candidates.py\", line 301, in _prepare_distribution\n",
            "    return preparer.prepare_linked_requirement(self._ireq, parallel_builds=True)\n",
            "           ^^^^^^^^^^^^^^^^^^^^^^^^^^^^^^^^^^^^^^^^^^^^^^^^^^^^^^^^^^^^^^^^^^^^^\n",
            "  File \"C:\\Users\\79\\AppData\\Local\\Programs\\Python\\Python312\\Lib\\site-packages\\pip\\_internal\\operations\\prepare.py\", line 525, in prepare_linked_requirement\n",
            "    return self._prepare_linked_requirement(req, parallel_builds)\n",
            "           ^^^^^^^^^^^^^^^^^^^^^^^^^^^^^^^^^^^^^^^^^^^^^^^^^^^^^^\n",
            "  File \"C:\\Users\\79\\AppData\\Local\\Programs\\Python\\Python312\\Lib\\site-packages\\pip\\_internal\\operations\\prepare.py\", line 640, in _prepare_linked_requirement\n",
            "    dist = _get_prepared_distribution(\n",
            "           ^^^^^^^^^^^^^^^^^^^^^^^^^^^\n",
            "  File \"C:\\Users\\79\\AppData\\Local\\Programs\\Python\\Python312\\Lib\\site-packages\\pip\\_internal\\operations\\prepare.py\", line 71, in _get_prepared_distribution\n",
            "    abstract_dist.prepare_distribution_metadata(\n",
            "  File \"C:\\Users\\79\\AppData\\Local\\Programs\\Python\\Python312\\Lib\\site-packages\\pip\\_internal\\distributions\\sdist.py\", line 54, in prepare_distribution_metadata\n",
            "    self._install_build_reqs(finder)\n",
            "  File \"C:\\Users\\79\\AppData\\Local\\Programs\\Python\\Python312\\Lib\\site-packages\\pip\\_internal\\distributions\\sdist.py\", line 124, in _install_build_reqs\n",
            "    build_reqs = self._get_build_requires_wheel()\n",
            "                 ^^^^^^^^^^^^^^^^^^^^^^^^^^^^^^^^\n",
            "  File \"C:\\Users\\79\\AppData\\Local\\Programs\\Python\\Python312\\Lib\\site-packages\\pip\\_internal\\distributions\\sdist.py\", line 101, in _get_build_requires_wheel\n",
            "    return backend.get_requires_for_build_wheel()\n",
            "           ^^^^^^^^^^^^^^^^^^^^^^^^^^^^^^^^^^^^^^\n",
            "  File \"C:\\Users\\79\\AppData\\Local\\Programs\\Python\\Python312\\Lib\\site-packages\\pip\\_internal\\utils\\misc.py\", line 745, in get_requires_for_build_wheel\n",
            "    return super().get_requires_for_build_wheel(config_settings=cs)\n",
            "           ^^^^^^^^^^^^^^^^^^^^^^^^^^^^^^^^^^^^^^^^^^^^^^^^^^^^^^^^\n",
            "  File \"C:\\Users\\79\\AppData\\Local\\Programs\\Python\\Python312\\Lib\\site-packages\\pip\\_vendor\\pyproject_hooks\\_impl.py\", line 166, in get_requires_for_build_wheel\n",
            "    return self._call_hook('get_requires_for_build_wheel', {\n",
            "           ^^^^^^^^^^^^^^^^^^^^^^^^^^^^^^^^^^^^^^^^^^^^^^^^^\n",
            "  File \"C:\\Users\\79\\AppData\\Local\\Programs\\Python\\Python312\\Lib\\site-packages\\pip\\_vendor\\pyproject_hooks\\_impl.py\", line 321, in _call_hook\n",
            "    raise BackendUnavailable(data.get('traceback', ''))\n",
            "pip._vendor.pyproject_hooks._impl.BackendUnavailable: Traceback (most recent call last):\n",
            "  File \"C:\\Users\\79\\AppData\\Local\\Programs\\Python\\Python312\\Lib\\site-packages\\pip\\_vendor\\pyproject_hooks\\_in_process\\_in_process.py\", line 77, in _build_backend\n",
            "    obj = import_module(mod_path)\n",
            "          ^^^^^^^^^^^^^^^^^^^^^^^\n",
            "  File \"C:\\Users\\79\\AppData\\Local\\Programs\\Python\\Python312\\Lib\\importlib\\__init__.py\", line 90, in import_module\n",
            "    return _bootstrap._gcd_import(name[level:], package, level)\n",
            "           ^^^^^^^^^^^^^^^^^^^^^^^^^^^^^^^^^^^^^^^^^^^^^^^^^^^^\n",
            "  File \"<frozen importlib._bootstrap>\", line 1387, in _gcd_import\n",
            "  File \"<frozen importlib._bootstrap>\", line 1360, in _find_and_load\n",
            "  File \"<frozen importlib._bootstrap>\", line 1310, in _find_and_load_unlocked\n",
            "  File \"<frozen importlib._bootstrap>\", line 488, in _call_with_frames_removed\n",
            "  File \"<frozen importlib._bootstrap>\", line 1387, in _gcd_import\n",
            "  File \"<frozen importlib._bootstrap>\", line 1360, in _find_and_load\n",
            "  File \"<frozen importlib._bootstrap>\", line 1331, in _find_and_load_unlocked\n",
            "  File \"<frozen importlib._bootstrap>\", line 935, in _load_unlocked\n",
            "  File \"<frozen importlib._bootstrap_external>\", line 995, in exec_module\n",
            "  File \"<frozen importlib._bootstrap>\", line 488, in _call_with_frames_removed\n",
            "  File \"C:\\Users\\79\\AppData\\Local\\Temp\\pip-build-env-dzqik0ew\\overlay\\Lib\\site-packages\\setuptools\\__init__.py\", line 10, in <module>\n",
            "    import distutils.core\n",
            "ModuleNotFoundError: No module named 'distutils'\n",
            "\n"
          ]
        }
      ],
      "source": [
        "!git clone https://github.com/C0untFloyd/roop-unleashed.git\n",
        "%cd roop-unleashed\n",
        "!mv config_colab.yaml config.yaml\n",
        "!pip install pip install -r requirements.txt"
      ]
    },
    {
      "cell_type": "markdown",
      "metadata": {
        "id": "u_4JQiSlV9Fi"
      },
      "source": [
        "Running roop-unleashed with default config"
      ]
    },
    {
      "cell_type": "code",
      "execution_count": 5,
      "metadata": {
        "id": "Is6U2huqSzLE"
      },
      "outputs": [
        {
          "name": "stdout",
          "output_type": "stream",
          "text": [
            "Microsoft Visual C++ Redistributable is not installed, this may lead to the DLL load failure.\n",
            "                 It can be downloaded at https://aka.ms/vs/16/release/vc_redist.x64.exe\n"
          ]
        },
        {
          "name": "stderr",
          "output_type": "stream",
          "text": [
            "Traceback (most recent call last):\n",
            "  File \"c:\\Users\\79\\roop-unleashed\\roop-unleashed\\run.py\", line 3, in <module>\n",
            "    from roop import core\n",
            "  File \"c:\\Users\\79\\roop-unleashed\\roop-unleashed\\roop\\core.py\", line 14, in <module>\n",
            "    import torch\n",
            "  File \"c:\\Users\\79\\AppData\\Local\\Programs\\Python\\Python312\\Lib\\site-packages\\torch\\__init__.py\", line 141, in <module>\n",
            "    raise err\n",
            "OSError: [WinError 126] The specified module could not be found. Error loading \"c:\\Users\\79\\AppData\\Local\\Programs\\Python\\Python312\\Lib\\site-packages\\torch\\lib\\c10.dll\" or one of its dependencies.\n"
          ]
        }
      ],
      "source": [
        "!python run.py"
      ]
    },
    {
      "cell_type": "markdown",
      "metadata": {
        "id": "UdQ1VHdI8lCf"
      },
      "source": [
        "### Download generated images folder\n",
        "(only needed if you want to zip the generated output)"
      ]
    },
    {
      "cell_type": "code",
      "execution_count": 8,
      "metadata": {
        "colab": {
          "base_uri": "https://localhost:8080/",
          "height": 17
        },
        "id": "oYjWveAmw10X",
        "outputId": "5b4c3650-f951-434a-c650-5525a8a70c1e"
      },
      "outputs": [
        {
          "ename": "ModuleNotFoundError",
          "evalue": "No module named 'google.colab'",
          "output_type": "error",
          "traceback": [
            "\u001b[1;31m---------------------------------------------------------------------------\u001b[0m",
            "\u001b[1;31mModuleNotFoundError\u001b[0m                       Traceback (most recent call last)",
            "Cell \u001b[1;32mIn[8], line 3\u001b[0m\n\u001b[0;32m      1\u001b[0m \u001b[38;5;28;01mimport\u001b[39;00m \u001b[38;5;21;01mshutil\u001b[39;00m\n\u001b[0;32m      2\u001b[0m \u001b[38;5;28;01mimport\u001b[39;00m \u001b[38;5;21;01mos\u001b[39;00m\n\u001b[1;32m----> 3\u001b[0m \u001b[38;5;28;01mfrom\u001b[39;00m \u001b[38;5;21;01mgoogle\u001b[39;00m\u001b[38;5;21;01m.\u001b[39;00m\u001b[38;5;21;01mcolab\u001b[39;00m \u001b[38;5;28;01mimport\u001b[39;00m files\n\u001b[0;32m      5\u001b[0m \u001b[38;5;28;01mdef\u001b[39;00m \u001b[38;5;21mzip_directory\u001b[39m(directory_path, zip_path):\n\u001b[0;32m      6\u001b[0m     shutil\u001b[38;5;241m.\u001b[39mmake_archive(zip_path, \u001b[38;5;124m'\u001b[39m\u001b[38;5;124mzip\u001b[39m\u001b[38;5;124m'\u001b[39m, directory_path)\n",
            "\u001b[1;31mModuleNotFoundError\u001b[0m: No module named 'google.colab'"
          ]
        }
      ],
      "source": [
        "import shutil\n",
        "import os\n",
        "from google.colab import files\n",
        "\n",
        "def zip_directory(directory_path, zip_path):\n",
        "    shutil.make_archive(zip_path, 'zip', directory_path)\n",
        "\n",
        "# Set the directory path you want to download\n",
        "directory_path = '/content/roop-unleashed/output'\n",
        "\n",
        "# Set the zip file name\n",
        "zip_filename = 'fake_output.zip'\n",
        "\n",
        "# Zip the directory\n",
        "zip_directory(directory_path, zip_filename)\n",
        "\n",
        "# Download the zip file\n",
        "files.download(zip_filename+'.zip')\n"
      ]
    }
  ],
  "metadata": {
    "accelerator": "GPU",
    "colab": {
      "collapsed_sections": [
        "UdQ1VHdI8lCf"
      ],
      "gpuType": "T4",
      "provenance": []
    },
    "kernelspec": {
      "display_name": "Python 3",
      "name": "python3"
    },
    "language_info": {
      "codemirror_mode": {
        "name": "ipython",
        "version": 3
      },
      "file_extension": ".py",
      "mimetype": "text/x-python",
      "name": "python",
      "nbconvert_exporter": "python",
      "pygments_lexer": "ipython3",
      "version": "3.12.2"
    }
  },
  "nbformat": 4,
  "nbformat_minor": 0
}
